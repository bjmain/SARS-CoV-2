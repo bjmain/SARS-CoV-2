{
 "cells": [
  {
   "cell_type": "code",
   "execution_count": 1,
   "metadata": {},
   "outputs": [
    {
     "name": "stderr",
     "output_type": "stream",
     "text": [
      "/home/matteo/software/sars2/sars2/lib/python3.6/site-packages/rpy2/ipython/rmagic.py:77: UserWarning: The Python package `pandas` is strongly recommended when using `rpy2.ipython`. Unfortunately it could not be loaded (error: No module named 'pandas'), but at least we found `numpy`.\n",
      "  'but at least we found `numpy`.' % str(ie))\n"
     ]
    }
   ],
   "source": [
    "import rpy2\n",
    "%load_ext rpy2.ipython"
   ]
  },
  {
   "cell_type": "code",
   "execution_count": 17,
   "metadata": {},
   "outputs": [
    {
     "name": "stderr",
     "output_type": "stream",
     "text": [
      "R[write to console]: Error in library(repr) : there is no package called ‘repr’\n",
      "Calls: <Anonymous> -> <Anonymous> -> withVisible -> library\n",
      "\n"
     ]
    },
    {
     "name": "stdout",
     "output_type": "stream",
     "text": [
      "\n",
      "Error in library(repr) : there is no package called ‘repr’\n",
      "Calls: <Anonymous> -> <Anonymous> -> withVisible -> library\n"
     ]
    }
   ],
   "source": [
    "%%R -o global_deaths -o US_deaths \n",
    "#install.packages(\"RCurl\", repos='http://cran.us.r-project.org')\n",
    "library(repr)\n",
    "library(RCurl)\n",
    "#URL with data\n",
    "global_url <- getURL(\"https://raw.githubusercontent.com/CSSEGISandData/COVID-19/master/csse_covid_19_data/csse_covid_19_time_series/time_series_covid19_deaths_global.csv\")\n",
    "US_url <- getURL(\"https://raw.githubusercontent.com/CSSEGISandData/COVID-19/master/csse_covid_19_data/csse_covid_19_time_series/time_series_covid19_deaths_US.csv\")\n",
    "#Reshape\n",
    "global_deaths <- read.csv(text = global_url,header=T,check.names=F)\n",
    "US_deaths <- read.csv(text = US_url,header=T,check.names=F)\n"
   ]
  },
  {
   "cell_type": "code",
   "execution_count": 21,
   "metadata": {},
   "outputs": [
    {
     "ename": "ModuleNotFoundError",
     "evalue": "No module named 'pandas'",
     "output_type": "error",
     "traceback": [
      "\u001b[0;31m---------------------------------------------------------------------------\u001b[0m",
      "\u001b[0;31mModuleNotFoundError\u001b[0m                       Traceback (most recent call last)",
      "\u001b[0;32m<ipython-input-21-4bc248b50c7f>\u001b[0m in \u001b[0;36m<module>\u001b[0;34m\u001b[0m\n\u001b[1;32m      3\u001b[0m \"\"\"\n\u001b[1;32m      4\u001b[0m \u001b[0;31m#### Standard workflow imports ######################################\u001b[0m\u001b[0;34m\u001b[0m\u001b[0;34m\u001b[0m\u001b[0;34m\u001b[0m\u001b[0m\n\u001b[0;32m----> 5\u001b[0;31m \u001b[0;32mimport\u001b[0m \u001b[0mpandas\u001b[0m \u001b[0;32mas\u001b[0m \u001b[0mpd\u001b[0m\u001b[0;34m\u001b[0m\u001b[0;34m\u001b[0m\u001b[0m\n\u001b[0m\u001b[1;32m      6\u001b[0m \u001b[0;32mimport\u001b[0m \u001b[0msys\u001b[0m\u001b[0;34m\u001b[0m\u001b[0;34m\u001b[0m\u001b[0m\n\u001b[1;32m      7\u001b[0m \u001b[0;32mimport\u001b[0m \u001b[0mmatplotlib\u001b[0m\u001b[0;34m.\u001b[0m\u001b[0mpyplot\u001b[0m \u001b[0;32mas\u001b[0m \u001b[0mP\u001b[0m\u001b[0;34m\u001b[0m\u001b[0;34m\u001b[0m\u001b[0m\n",
      "\u001b[0;31mModuleNotFoundError\u001b[0m: No module named 'pandas'"
     ]
    }
   ],
   "source": [
    "\"\"\"\n",
    "workflow for comparing COVID-19 death rate data\n",
    "\"\"\"\n",
    "#### Standard workflow imports ###################################### \n",
    "import pandas as pd\n",
    "import sys\n",
    "import matplotlib.pyplot as P\n",
    "from matplotlib.dates import DateFormatter\n",
    "#### End standard workflow imports ###################################\n",
    "\n",
    "######## INPUT THE mortality and population size data ########\n",
    "#US_deaths = pd.read_csv(input_urls.us_death_url)\n",
    "#global_deaths = pd.read_csv(input_urls.global_death_url)\n",
    "\n",
    "# pop sizes\n",
    "cook_pop = 5238216\n",
    "LA_pop = 10118759\n",
    "yolo_pop = 218376\n",
    "mont_pop = 1048244\n",
    "charles_pop = 401738\n",
    "cc_pop = 1144863\n",
    "solano_pop = 443877\n",
    "denver_pop = 705439\n",
    "suffolk_pop = 1483571\n",
    "NO_pop = 343829\n",
    "spain_pop = 46750000\n",
    "IT_pop = 60483296\n",
    "\n",
    "######## End of INPUTS #########\n",
    "\n",
    "####### functions #########\n",
    "def make_COUNTRY_DF(global_death_DF, country_name, pop_size,NAME,offset):\n",
    "    country_df = global_death_DF.loc[global_death_DF['Country/Region']==country_name].copy()\n",
    "    country_df.drop(['Province/State','Lat','Long'],axis='columns',inplace=True)\n",
    "    country_df = country_df.T.reset_index()\n",
    "    country_df.columns = ['date',country_name]\n",
    "    country_df.drop(country_df.index[0],inplace=True)\n",
    "    country_df = country_df.reset_index(drop=True)\n",
    "    country_df['date'] = country_df['date'].apply(str)\n",
    "    country_df['date']=pd.to_datetime(country_df['date'])\n",
    "    country_df['date'] = country_df['date'] + pd.DateOffset(days=offset)\n",
    "    country_df[country_name] = country_df[country_name].div(pop_size) * 1000000\n",
    "    country_df = country_df.set_index('date')\n",
    "    country_df.columns = [NAME]\n",
    "    return(country_df)\n",
    "\n",
    "\n",
    "\n",
    "def make_county_DF(US_death_DF, state, county_name, pop_size):\n",
    "    COUNTY = US_death_DF.loc[(US_death_DF['Province_State']==state) & (US_death_DF['Admin2']==county_name)].copy()\n",
    "    COUNTY.drop(['UID', 'iso2', 'iso3', 'code3', 'FIPS', 'Admin2','Country_Region', 'Lat', 'Long_', 'Combined_Key','Population'],axis='columns',inplace=True)\n",
    "    #COUNTY.drop(['UID', 'iso2', 'iso3', 'code3', 'FIPS', 'Admin2','Country_Region', 'Lat', 'Long_', 'Combined_Key'],axis='columns',inplace=True)\n",
    "    COUNTY = COUNTY.T.reset_index()\n",
    "    COUNTY.columns = ['date',county_name]\n",
    "    COUNTY.drop(COUNTY.index[0],inplace=True)\n",
    "    COUNTY['date'] = COUNTY['date'].apply(str)\n",
    "\n",
    "    #if county_name == \"Suffolk\":  # Sometimes I want to add more recent data and do that here.\n",
    "    #    new_row = {'date':'4/03/20', 'Suffolk':84}\n",
    "    ##    COUNTY = COUNTY.append(new_row, ignore_index=True)\n",
    "    ##if county_name == \"Cook\":  # Sometimes I want to add more recent data and do that here.\n",
    "    #    new_row = {'date':'4/03/20', 'Cook':124}\n",
    "    #    COUNTY = COUNTY.append(new_row, ignore_index=True)\n",
    "    COUNTY = COUNTY.reset_index(drop=True)\n",
    "    COUNTY['date']=pd.to_datetime(COUNTY['date'])\n",
    "    COUNTY[county_name] = COUNTY[county_name].div(pop_size) * 1000000\n",
    "    COUNTY = COUNTY.set_index('date')\n",
    "    return(COUNTY)\n",
    "\n",
    "####### end of functions #########\n",
    "\n",
    "####### Select focal counties to compare ##########\n",
    "# Later I will update this to a one liner: importing a list of counties and population size data\n",
    "CC_deaths = make_county_DF(US_deaths,\"California\", \"Contra Costa\",cc_pop)\n",
    "#print(CC_deaths.head(10))\n",
    "#sys.exit()\n",
    "solano_deaths = make_county_DF(US_deaths,\"California\", \"Solano\",solano_pop)\n",
    "yolo_deaths = make_county_DF(US_deaths,\"California\",\"Yolo\",yolo_pop)\n",
    "LA_deaths = make_county_DF(US_deaths,\"California\", \"Los Angeles\",LA_pop)\n",
    "Mont_deaths = make_county_DF(US_deaths,\"Maryland\", \"Montgomery\",mont_pop)\n",
    "SC_deaths = make_county_DF(US_deaths,\"South Carolina\", \"Charleston\",charles_pop)\n",
    "Chi_deaths = make_county_DF(US_deaths,\"Illinois\", \"Cook\",cook_pop)\n",
    "denver_deaths = make_county_DF(US_deaths,\"Colorado\", \"Denver\",denver_pop)\n",
    "suffolk_deaths = make_county_DF(US_deaths,\"New York\", \"Suffolk\",suffolk_pop)\n",
    "NO_deaths = make_county_DF(US_deaths,\"Louisiana\", \"Orleans\",NO_pop)\n",
    "espania_deaths_RT = make_COUNTRY_DF(global_deaths, \"Spain\", spain_pop, \"Spain\",0)\n",
    "italy_deaths_RT = make_COUNTRY_DF(global_deaths, \"Italy\", IT_pop, \"Italy\",0)\n",
    "espania_deaths = make_COUNTRY_DF(global_deaths, \"Spain\", spain_pop, \"Spain offset +10 days\",10)\n",
    "espania_deaths14 = make_COUNTRY_DF(global_deaths, \"Spain\", spain_pop, \"Spain offset +13 days\",13)\n",
    "\n",
    "# Add rate of Flu deaths from the exceptionally high 2017-2018 flu season\n",
    "flu_2019 = 34200  # 2018-2019 flue season. cdc: https://www.cdc.gov/flu/about/burden/2018-2019.html\n",
    "flue_2017 = 61000\n",
    "us_pop_19 = 329450000 # 2019\n",
    "us_pop_17 = 325700000 # 2017\n",
    "us_flu_deaths_per_million_19 = 1000000 * (flu_2019/us_pop_19)  # flu deaths per million people\n",
    "us_flu_deaths_per_million_17 = 1000000 * (flue_2017/us_pop_17)  # flu deaths per million people\n",
    "#print(\"flue death rate 2019:\",us_flu_deaths_per_million)\n",
    "\n",
    "\n",
    "##############################################"
   ]
  },
  {
   "cell_type": "code",
   "execution_count": 4,
   "metadata": {},
   "outputs": [
    {
     "ename": "NameError",
     "evalue": "name 'P' is not defined",
     "output_type": "error",
     "traceback": [
      "\u001b[0;31m---------------------------------------------------------------------------\u001b[0m",
      "\u001b[0;31mNameError\u001b[0m                                 Traceback (most recent call last)",
      "\u001b[0;32m<ipython-input-4-8c8baf017be3>\u001b[0m in \u001b[0;36m<module>\u001b[0;34m\u001b[0m\n\u001b[1;32m      1\u001b[0m \u001b[0;31m################## make figure ###############\u001b[0m\u001b[0;34m\u001b[0m\u001b[0;34m\u001b[0m\u001b[0;34m\u001b[0m\u001b[0m\n\u001b[0;32m----> 2\u001b[0;31m \u001b[0mfig\u001b[0m \u001b[0;34m=\u001b[0m \u001b[0mP\u001b[0m\u001b[0;34m.\u001b[0m\u001b[0mfigure\u001b[0m\u001b[0;34m(\u001b[0m\u001b[0mfigsize\u001b[0m\u001b[0;34m=\u001b[0m\u001b[0;34m(\u001b[0m\u001b[0;36m16\u001b[0m\u001b[0;34m,\u001b[0m\u001b[0;36m11\u001b[0m\u001b[0;34m)\u001b[0m\u001b[0;34m)\u001b[0m \u001b[0;31m# create a figure object\u001b[0m\u001b[0;34m\u001b[0m\u001b[0;34m\u001b[0m\u001b[0m\n\u001b[0m\u001b[1;32m      3\u001b[0m \u001b[0;31m#fig = P.figure() # create a figure object\u001b[0m\u001b[0;34m\u001b[0m\u001b[0;34m\u001b[0m\u001b[0;34m\u001b[0m\u001b[0m\n\u001b[1;32m      4\u001b[0m \u001b[0max\u001b[0m \u001b[0;34m=\u001b[0m \u001b[0mfig\u001b[0m\u001b[0;34m.\u001b[0m\u001b[0madd_subplot\u001b[0m\u001b[0;34m(\u001b[0m\u001b[0;36m1\u001b[0m\u001b[0;34m,\u001b[0m \u001b[0;36m1\u001b[0m\u001b[0;34m,\u001b[0m \u001b[0;36m1\u001b[0m\u001b[0;34m)\u001b[0m  \u001b[0;31m# create an axes object in the figure\u001b[0m\u001b[0;34m\u001b[0m\u001b[0;34m\u001b[0m\u001b[0m\n\u001b[1;32m      5\u001b[0m \u001b[0;34m\u001b[0m\u001b[0m\n",
      "\u001b[0;31mNameError\u001b[0m: name 'P' is not defined"
     ]
    }
   ],
   "source": [
    "\n",
    "################## make figure ###############\n",
    "fig = P.figure(figsize=(16,11)) # create a figure object\n",
    "#fig = P.figure() # create a figure object\n",
    "ax = fig.add_subplot(1, 1, 1)  # create an axes object in the figure\n",
    "\n",
    "\n",
    "line_w = 2\n",
    "CC_deaths.plot(kind='line',ax=ax,lw=line_w)\n",
    "#\"\"\"\n",
    "denver_deaths.plot(kind='line',ax=ax,lw=line_w)\n",
    "solano_deaths.plot(kind='line',ax=ax,lw=line_w)\n",
    "SC_deaths.plot(kind='line',ax=ax,lw=line_w)\n",
    "Chi_deaths.plot(kind='line',ax=ax,lw=line_w)\n",
    "Mont_deaths.plot(kind='line',ax=ax,lw=line_w)\n",
    "\n",
    "yolo_deaths.plot(kind='line',ax=ax,lw=1,ls=\"-.\",color='g')\n",
    "LA_deaths.plot(kind='line',ax=ax,lw=line_w)\n",
    "suffolk_deaths.plot(kind='line',ax=ax,lw=line_w)\n",
    "NO_deaths.plot(kind='line',ax=ax,lw=line_w)\n",
    "espania_deaths_RT.plot(kind='line',ax=ax,lw=3,ls='--',color='b',alpha=0.5)\n",
    "espania_deaths.plot(kind='line',ax=ax,lw=3,ls='--',color='k',alpha=0.5)\n",
    "espania_deaths14.plot(kind='line',ax=ax,lw=3,ls='--',color='r',alpha=0.5)\n",
    "italy_deaths_RT.plot(kind='line',ax=ax,lw=3,ls='-.',color='g',alpha=0.5)\n",
    "# add flu death comparison\n",
    "P.axhline(y=us_flu_deaths_per_million_19, color='r', linestyle='-')\n",
    "P.text('3/26/2020',105,\"All of 2019 US flu death rate\",color='r',fontsize=18)\n",
    "P.axhline(y=us_flu_deaths_per_million_17, color='r', linestyle='-')\n",
    "P.text('3/26/2020',188,\"All of 2017 US flu death rate\",color='r',fontsize=18)\n",
    "\n",
    "ax.set_title(\"Mortality rates for COVID-19\",fontsize=18)\n",
    "ax.set_ylabel(\"COVID-19 Deaths/million people\",fontsize=18)\n",
    "\n",
    "P.xlim('3/15/20','4/10/20')\n",
    "P.ylim(0,400)\n",
    "#P.ylim(0,50)\n",
    "\n",
    "# Define the date format\n",
    "date_form = DateFormatter(\"%m-%d\")\n",
    "ax.xaxis.set_major_formatter(date_form)\n",
    "P.legend(prop={'size': 20})\n",
    "#P.savefig(input_urls.outfile)\n",
    "#P.show()\n",
    "#\"\"\""
   ]
  },
  {
   "cell_type": "code",
   "execution_count": 22,
   "metadata": {},
   "outputs": [
    {
     "ename": "NameError",
     "evalue": "name 'P' is not defined",
     "output_type": "error",
     "traceback": [
      "\u001b[0;31m---------------------------------------------------------------------------\u001b[0m",
      "\u001b[0;31mNameError\u001b[0m                                 Traceback (most recent call last)",
      "\u001b[0;32m<ipython-input-22-88b56f822ac8>\u001b[0m in \u001b[0;36m<module>\u001b[0;34m\u001b[0m\n\u001b[1;32m      1\u001b[0m \u001b[0;31m################## make figure ###############\u001b[0m\u001b[0;34m\u001b[0m\u001b[0;34m\u001b[0m\u001b[0;34m\u001b[0m\u001b[0m\n\u001b[0;32m----> 2\u001b[0;31m \u001b[0mfig\u001b[0m \u001b[0;34m=\u001b[0m \u001b[0mP\u001b[0m\u001b[0;34m.\u001b[0m\u001b[0mfigure\u001b[0m\u001b[0;34m(\u001b[0m\u001b[0mfigsize\u001b[0m\u001b[0;34m=\u001b[0m\u001b[0;34m(\u001b[0m\u001b[0;36m16\u001b[0m\u001b[0;34m,\u001b[0m\u001b[0;36m11\u001b[0m\u001b[0;34m)\u001b[0m\u001b[0;34m)\u001b[0m \u001b[0;31m# create a figure object\u001b[0m\u001b[0;34m\u001b[0m\u001b[0;34m\u001b[0m\u001b[0m\n\u001b[0m\u001b[1;32m      3\u001b[0m \u001b[0max\u001b[0m \u001b[0;34m=\u001b[0m \u001b[0mfig\u001b[0m\u001b[0;34m.\u001b[0m\u001b[0madd_subplot\u001b[0m\u001b[0;34m(\u001b[0m\u001b[0;36m1\u001b[0m\u001b[0;34m,\u001b[0m \u001b[0;36m1\u001b[0m\u001b[0;34m,\u001b[0m \u001b[0;36m1\u001b[0m\u001b[0;34m)\u001b[0m  \u001b[0;31m# create an axes object in the figure\u001b[0m\u001b[0;34m\u001b[0m\u001b[0;34m\u001b[0m\u001b[0m\n\u001b[1;32m      4\u001b[0m \u001b[0;34m\u001b[0m\u001b[0m\n\u001b[1;32m      5\u001b[0m \u001b[0;34m\u001b[0m\u001b[0m\n",
      "\u001b[0;31mNameError\u001b[0m: name 'P' is not defined"
     ]
    }
   ],
   "source": [
    "\n",
    "################## make figure ###############\n",
    "fig = P.figure(figsize=(16,11)) # create a figure object\n",
    "ax = fig.add_subplot(1, 1, 1)  # create an axes object in the figure\n",
    "\n",
    "\n",
    "line_w = 2\n",
    "CC_deaths.plot(kind='line',ax=ax,lw=line_w)\n",
    "denver_deaths.plot(kind='line',ax=ax,lw=line_w)\n",
    "solano_deaths.plot(kind='line',ax=ax,lw=line_w)\n",
    "\n",
    "yolo_deaths.plot(kind='line',ax=ax,lw=1,ls=\"-.\",color='g')\n",
    "LA_deaths.plot(kind='line',ax=ax,lw=line_w)\n",
    "suffolk_deaths.plot(kind='line',ax=ax,lw=line_w)\n",
    "espania_deaths.plot(kind='line',ax=ax,lw=3,ls='--',color='k',alpha=0.5)\n",
    "\n",
    "\n",
    "ax.set_title(\"Mortality rates for COVID-19\",fontsize=18)\n",
    "ax.set_ylabel(\"COVID-19 Deaths/million people\",fontsize=18)\n",
    "\n",
    "P.xlim('3/20/20','4/6/20')\n",
    "P.ylim(0,100)\n",
    "#P.ylim(0,50)\n",
    "\n",
    "# Define the date format\n",
    "date_form = DateFormatter(\"%m-%d\")\n",
    "ax.xaxis.set_major_formatter(date_form)\n"
   ]
  },
  {
   "cell_type": "code",
   "execution_count": 25,
   "metadata": {},
   "outputs": [
    {
     "data": {
      "image/png": "[encoded data removed]"
     },
     "metadata": {},
     "output_type": "display_data"
    }
   ],
   "source": [
    "%%R  \n",
    "# Note: This is a python3 notebook, so you need to run the rpy2 cell (top) before running this. \n",
    "\n",
    "#Required libraries\n",
    "library(RCurl)\n",
    "library(ggplot2)\n",
    "library(reshape)\n",
    "\n",
    "#URL with data\n",
    "url <- getURL('https://raw.githubusercontent.com/CSSEGISandData/COVID-19/master/csse_covid_19_data/csse_covid_19_time_series/time_series_covid19_deaths_global.csv')\n",
    "data <- read.csv(text = url,header=F)\n",
    "\n",
    "#Reshape\n",
    "#First date is 22 Jan 2020\n",
    "dates<-as.Date(as.vector(as.matrix(data[1,5:length(data)])), format='%m/%d/%Y')\n",
    "names(data) <- c('ps','cr','lat','lon',paste('d',1:length(dates),sep=''))  \n",
    "\n",
    "#Melt and order\n",
    "datam<-melt(data[-c(1),-c(1,3,4)],id.vars='cr',measure.vars=paste('d',1:length(dates),sep=''))\n",
    "levels(datam$variable) <- dates\n",
    "datam$value <- as.numeric(as.character(datam$value))\n",
    "datamagg <- aggregate(value~cr+variable, datam,'sum')\n",
    "datamagg$variable<-as.Date(datamagg$variable)\n",
    "datamagg<-datamagg[order(datamagg$value),]\n",
    "datamagg$cr <- as.factor(datamagg$cr)\n",
    "datamagg$cr<-droplevels(datamagg$cr)\n",
    "\n",
    "#Derive total number of cases for ordering plots\n",
    "sumcases <- aggregate(value~cr, datamagg[which(as.Date(datamagg$variable)==as.Date(format(Sys.time(), '%y-%m-%d'))-1),],'sum')\n",
    "datamagg$cr<-factor(datamagg$cr,levels=levels(datamagg$cr)[order(sumcases$value,decreasing=T)],ordered=T)\n",
    "\n",
    "#Select 10 countries with the highest number of deaths \n",
    "datamagg<-datamagg[which(datamagg$cr%in%levels(datamagg$cr)[1:10]),]\n",
    "\n",
    "#Trend overview\n",
    "options(repr.plot.width = 20, repr.plot.height = 10, repr.plot.res = 300)\n",
    "#X11(width=20,height=11)\n",
    "\n",
    "ggplot(datamagg, aes(x=variable, y=value, col=cr)) + \n",
    "geom_line(show.legend=TRUE,size=2, linetype=1) +\n",
    "scale_x_date(date_breaks='4 week',date_labels='%d-%m') +\n",
    "theme_bw() + \n",
    "labs(x=\"Date\", y=\"Number of deaths\") +\n",
    "ggtitle(\"Number of deaths - Raw progression per country (10 most affected)\") +\n",
    "guides(col=guide_legend(\"Country\",nrow=1)) +\n",
    "theme(axis.text.y=element_text(size=20),axis.text.x=element_text(size=20),legend.position=\"bottom\", legend.direction=\"horizontal\",legend.text=element_text(size=20))"
   ]
  },
  {
   "cell_type": "code",
   "execution_count": null,
   "metadata": {},
   "outputs": [],
   "source": []
  }
 ],
 "metadata": {
  "kernelspec": {
   "display_name": "Python 3",
   "language": "python",
   "name": "python3"
  },
  "language_info": {
   "codemirror_mode": {
    "name": "ipython",
    "version": 3
   },
   "file_extension": ".py",
   "mimetype": "text/x-python",
   "name": "python",
   "nbconvert_exporter": "python",
   "pygments_lexer": "ipython3",
   "version": "3.6.9"
  }
 },
 "nbformat": 4,
 "nbformat_minor": 2
}
